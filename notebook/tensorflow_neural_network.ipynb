{
 "cells": [
  {
   "cell_type": "code",
   "execution_count": 1,
   "metadata": {
    "collapsed": false,
    "deletable": true,
    "editable": true
   },
   "outputs": [
    {
     "name": "stderr",
     "output_type": "stream",
     "text": [
      "/Library/Frameworks/Python.framework/Versions/3.5/lib/python3.5/site-packages/tensorflow/python/framework/dtypes.py:523: FutureWarning: Passing (type, 1) or '1type' as a synonym of type is deprecated; in a future version of numpy, it will be understood as (type, (1,)) / '(1,)type'.\n",
      "  _np_qint8 = np.dtype([(\"qint8\", np.int8, 1)])\n",
      "/Library/Frameworks/Python.framework/Versions/3.5/lib/python3.5/site-packages/tensorflow/python/framework/dtypes.py:524: FutureWarning: Passing (type, 1) or '1type' as a synonym of type is deprecated; in a future version of numpy, it will be understood as (type, (1,)) / '(1,)type'.\n",
      "  _np_quint8 = np.dtype([(\"quint8\", np.uint8, 1)])\n",
      "/Library/Frameworks/Python.framework/Versions/3.5/lib/python3.5/site-packages/tensorflow/python/framework/dtypes.py:525: FutureWarning: Passing (type, 1) or '1type' as a synonym of type is deprecated; in a future version of numpy, it will be understood as (type, (1,)) / '(1,)type'.\n",
      "  _np_qint16 = np.dtype([(\"qint16\", np.int16, 1)])\n",
      "/Library/Frameworks/Python.framework/Versions/3.5/lib/python3.5/site-packages/tensorflow/python/framework/dtypes.py:526: FutureWarning: Passing (type, 1) or '1type' as a synonym of type is deprecated; in a future version of numpy, it will be understood as (type, (1,)) / '(1,)type'.\n",
      "  _np_quint16 = np.dtype([(\"quint16\", np.uint16, 1)])\n",
      "/Library/Frameworks/Python.framework/Versions/3.5/lib/python3.5/site-packages/tensorflow/python/framework/dtypes.py:527: FutureWarning: Passing (type, 1) or '1type' as a synonym of type is deprecated; in a future version of numpy, it will be understood as (type, (1,)) / '(1,)type'.\n",
      "  _np_qint32 = np.dtype([(\"qint32\", np.int32, 1)])\n",
      "/Library/Frameworks/Python.framework/Versions/3.5/lib/python3.5/site-packages/tensorflow/python/framework/dtypes.py:532: FutureWarning: Passing (type, 1) or '1type' as a synonym of type is deprecated; in a future version of numpy, it will be understood as (type, (1,)) / '(1,)type'.\n",
      "  np_resource = np.dtype([(\"resource\", np.ubyte, 1)])\n"
     ]
    },
    {
     "name": "stdout",
     "output_type": "stream",
     "text": [
      "Populating the interactive namespace from numpy and matplotlib\n",
      "1.12.0\n"
     ]
    }
   ],
   "source": [
    "\"\"\"\n",
    "This script works on TensorFlow 1.x :)\n",
    "\"\"\"\n",
    "import sys\n",
    "sys.path.append(\"..\")\n",
    "import tensorflow as tf\n",
    "import input_data\n",
    "import matplotlib.pyplot as plt\n",
    "%pylab inline\n",
    "\n",
    "\n",
    "print(tf.__version__)"
   ]
  },
  {
   "cell_type": "code",
   "execution_count": 2,
   "metadata": {
    "collapsed": true,
    "deletable": true,
    "editable": true
   },
   "outputs": [],
   "source": [
    "def imshow(img):\n",
    "    plt.imshow(np.reshape(img, [28, 28]))\n",
    "    plt.show()"
   ]
  },
  {
   "cell_type": "code",
   "execution_count": 3,
   "metadata": {
    "collapsed": false,
    "deletable": true,
    "editable": true
   },
   "outputs": [
    {
     "name": "stdout",
     "output_type": "stream",
     "text": [
      "WARNING:tensorflow:From <ipython-input-3-2aafad96a75c>:1: read_data_sets (from input_data) is deprecated and will be removed in a future version.\n",
      "Instructions for updating:\n",
      "Please use alternatives such as: tensorflow_datasets.load('mnist')\n",
      "WARNING:tensorflow:From ../input_data.py:284: _maybe_download (from input_data) is deprecated and will be removed in a future version.\n",
      "Instructions for updating:\n",
      "Please write your own downloading logic.\n",
      "WARNING:tensorflow:From ../input_data.py:286: _extract_images (from input_data) is deprecated and will be removed in a future version.\n",
      "Instructions for updating:\n",
      "Please use tf.data to implement this functionality.\n",
      "Extracting ../MNIST_data/train-images-idx3-ubyte.gz\n",
      "WARNING:tensorflow:From ../input_data.py:291: _extract_labels (from input_data) is deprecated and will be removed in a future version.\n",
      "Instructions for updating:\n",
      "Please use tf.data to implement this functionality.\n",
      "Extracting ../MNIST_data/train-labels-idx1-ubyte.gz\n",
      "WARNING:tensorflow:From ../input_data.py:104: _dense_to_one_hot (from input_data) is deprecated and will be removed in a future version.\n",
      "Instructions for updating:\n",
      "Please use tf.one_hot on tensors.\n",
      "Extracting ../MNIST_data/t10k-images-idx3-ubyte.gz\n",
      "Extracting ../MNIST_data/t10k-labels-idx1-ubyte.gz\n",
      "WARNING:tensorflow:From ../input_data.py:315: _DataSet.__init__ (from input_data) is deprecated and will be removed in a future version.\n",
      "Instructions for updating:\n",
      "Please use alternatives such as official/mnist/_DataSet.py from tensorflow/models.\n"
     ]
    }
   ],
   "source": [
    "mnist = input_data.read_data_sets('../MNIST_data/', one_hot=True)"
   ]
  },
  {
   "cell_type": "code",
   "execution_count": 4,
   "metadata": {
    "collapsed": false,
    "deletable": true,
    "editable": true
   },
   "outputs": [
    {
     "name": "stdout",
     "output_type": "stream",
     "text": [
      "(784,)\n",
      "[0. 0. 0. 0. 0. 0. 0. 1. 0. 0.]\n",
      "[7]\n"
     ]
    },
    {
     "data": {
      "image/png": "[encoded data removed]",
      "text/plain": [
       "<Figure size 432x288 with 1 Axes>"
      ]
     },
     "metadata": {},
     "output_type": "display_data"
    },
    {
     "name": "stdout",
     "output_type": "stream",
     "text": [
      "(784,)\n",
      "[0. 0. 0. 1. 0. 0. 0. 0. 0. 0.]\n",
      "[3]\n"
     ]
    },
    {
     "data": {
      "image/png": "[encoded data removed]",
      "text/plain": [
       "<Figure size 432x288 with 1 Axes>"
      ]
     },
     "metadata": {},
     "output_type": "display_data"
    },
    {
     "name": "stdout",
     "output_type": "stream",
     "text": [
      "(784,)\n",
      "[0. 0. 0. 0. 1. 0. 0. 0. 0. 0.]\n",
      "[4]\n"
     ]
    },
    {
     "data": {
      "image/png": "[encoded data removed]",
      "text/plain": [
       "<Figure size 432x288 with 1 Axes>"
      ]
     },
     "metadata": {},
     "output_type": "display_data"
    },
    {
     "name": "stdout",
     "output_type": "stream",
     "text": [
      "(784,)\n",
      "[0. 0. 0. 0. 0. 0. 1. 0. 0. 0.]\n",
      "[6]\n"
     ]
    },
    {
     "data": {
      "image/png": "[encoded data removed]",
      "text/plain": [
       "<Figure size 432x288 with 1 Axes>"
      ]
     },
     "metadata": {},
     "output_type": "display_data"
    },
    {
     "name": "stdout",
     "output_type": "stream",
     "text": [
      "(784,)\n",
      "[0. 1. 0. 0. 0. 0. 0. 0. 0. 0.]\n",
      "[1]\n"
     ]
    },
    {
     "data": {
      "image/png": "[encoded data removed]",
      "text/plain": [
       "<Figure size 432x288 with 1 Axes>"
      ]
     },
     "metadata": {},
     "output_type": "display_data"
    },
    {
     "name": "stdout",
     "output_type": "stream",
     "text": [
      "(784,)\n",
      "[0. 0. 0. 0. 0. 0. 0. 0. 1. 0.]\n",
      "[8]\n"
     ]
    },
    {
     "data": {
      "image/png": "[encoded data removed]",
      "text/plain": [
       "<Figure size 432x288 with 1 Axes>"
      ]
     },
     "metadata": {},
     "output_type": "display_data"
    },
    {
     "name": "stdout",
     "output_type": "stream",
     "text": [
      "(784,)\n",
      "[0. 1. 0. 0. 0. 0. 0. 0. 0. 0.]\n",
      "[1]\n"
     ]
    },
    {
     "data": {
      "image/png": "[encoded data removed]",
      "text/plain": [
       "<Figure size 432x288 with 1 Axes>"
      ]
     },
     "metadata": {},
     "output_type": "display_data"
    },
    {
     "name": "stdout",
     "output_type": "stream",
     "text": [
      "(784,)\n",
      "[1. 0. 0. 0. 0. 0. 0. 0. 0. 0.]\n",
      "[0]\n"
     ]
    },
    {
     "data": {
      "image/png": "[encoded data removed]",
      "text/plain": [
       "<Figure size 432x288 with 1 Axes>"
      ]
     },
     "metadata": {},
     "output_type": "display_data"
    },
    {
     "name": "stdout",
     "output_type": "stream",
     "text": [
      "(784,)\n",
      "[0. 0. 0. 0. 0. 0. 0. 0. 0. 1.]\n",
      "[9]\n"
     ]
    },
    {
     "data": {
      "image/png": "[encoded data removed]",
      "text/plain": [
       "<Figure size 432x288 with 1 Axes>"
      ]
     },
     "metadata": {},
     "output_type": "display_data"
    },
    {
     "name": "stdout",
     "output_type": "stream",
     "text": [
      "(784,)\n",
      "[0. 0. 0. 0. 0. 0. 0. 0. 1. 0.]\n",
      "[8]\n"
     ]
    },
    {
     "data": {
      "image/png": "[encoded data removed]",
      "text/plain": [
       "<Figure size 432x288 with 1 Axes>"
      ]
     },
     "metadata": {},
     "output_type": "display_data"
    }
   ],
   "source": [
    "for index in range(10):\n",
    "    print(mnist.train.images[index].shape)\n",
    "    print(mnist.train.labels[index])\n",
    "    print(np.nonzero(mnist.train.labels[index])[0])\n",
    "    imshow(mnist.train.images[index])"
   ]
  },
  {
   "cell_type": "code",
   "execution_count": 5,
   "metadata": {
    "collapsed": true,
    "deletable": true,
    "editable": true
   },
   "outputs": [],
   "source": [
    "def weight_variable(shape):\n",
    "    initial = tf.truncated_normal(shape, stddev=0.1)\n",
    "    return tf.Variable(initial)\n",
    "\n",
    "\n",
    "def bias_variable(shape):\n",
    "    initial = tf.constant(0.1, shape=shape)\n",
    "    return tf.Variable(initial)"
   ]
  },
  {
   "cell_type": "code",
   "execution_count": 6,
   "metadata": {
    "collapsed": true,
    "deletable": true,
    "editable": true
   },
   "outputs": [],
   "source": [
    "# Create the model\n",
    "x = tf.placeholder(tf.float32, [None, 784])\n",
    "W_fc1 = weight_variable([784, 200])\n",
    "b_fc1 = bias_variable([200])\n",
    "W_fc2 = weight_variable([200, 200])\n",
    "b_fc2 = bias_variable([200])\n",
    "W_out = weight_variable([200, 10])\n",
    "b_out = bias_variable([10])\n",
    "hidden_1 = tf.nn.relu(tf.matmul(x, W_fc1) + b_fc1)\n",
    "hidden_2 = tf.nn.relu(tf.matmul(hidden_1, W_fc2) + b_fc2)\n",
    "y = tf.nn.softmax(tf.matmul(hidden_2, W_out) + b_out)"
   ]
  },
  {
   "cell_type": "code",
   "execution_count": 7,
   "metadata": {
    "collapsed": true,
    "deletable": true,
    "editable": true
   },
   "outputs": [],
   "source": [
    "# Define loss and optimizer\n",
    "y_ = tf.placeholder(tf.float32, [None, 10])\n",
    "correct_prediction = tf.equal(tf.argmax(y, 1), tf.argmax(y_, 1))\n",
    "accuracy = tf.reduce_mean(tf.cast(correct_prediction, tf.float32))\n",
    "cross_entropy = tf.reduce_mean(-tf.reduce_sum(y_ * tf.log(y), reduction_indices=[1]))\n",
    "train_step = tf.train.GradientDescentOptimizer(0.05).minimize(cross_entropy)"
   ]
  },
  {
   "cell_type": "code",
   "execution_count": 8,
   "metadata": {
    "collapsed": false,
    "deletable": true,
    "editable": true
   },
   "outputs": [
    {
     "name": "stdout",
     "output_type": "stream",
     "text": [
      "WARNING:tensorflow:From /Library/Frameworks/Python.framework/Versions/3.5/lib/python3.5/site-packages/tensorflow/python/util/tf_should_use.py:189: initialize_all_variables (from tensorflow.python.ops.variables) is deprecated and will be removed after 2017-03-02.\n",
      "Instructions for updating:\n",
      "Use `tf.global_variables_initializer` instead.\n",
      "Iteration:     1 | Accuracy = 0.120000\n",
      "Iteration:    51 | Accuracy = 0.830000\n",
      "Iteration:   101 | Accuracy = 0.830000\n",
      "Iteration:   151 | Accuracy = 0.880000\n",
      "Iteration:   201 | Accuracy = 0.900000\n",
      "Iteration:   251 | Accuracy = 0.850000\n",
      "Iteration:   301 | Accuracy = 0.880000\n",
      "Iteration:   351 | Accuracy = 0.940000\n",
      "Iteration:   401 | Accuracy = 0.900000\n",
      "Iteration:   451 | Accuracy = 0.940000\n",
      "Iteration:   501 | Accuracy = 0.920000\n",
      "Iteration:   551 | Accuracy = 0.930000\n",
      "Iteration:   601 | Accuracy = 0.960000\n",
      "Iteration:   651 | Accuracy = 0.900000\n",
      "Iteration:   701 | Accuracy = 0.920000\n",
      "Iteration:   751 | Accuracy = 0.970000\n",
      "Iteration:   801 | Accuracy = 0.930000\n",
      "Iteration:   851 | Accuracy = 0.920000\n",
      "Iteration:   901 | Accuracy = 0.930000\n",
      "Iteration:   951 | Accuracy = 0.930000\n",
      "Iteration:  1001 | Accuracy = 0.970000\n",
      "Iteration:  1051 | Accuracy = 0.890000\n",
      "Iteration:  1101 | Accuracy = 0.930000\n",
      "Iteration:  1151 | Accuracy = 0.930000\n",
      "Iteration:  1201 | Accuracy = 0.930000\n",
      "Iteration:  1251 | Accuracy = 0.960000\n",
      "Iteration:  1301 | Accuracy = 0.940000\n",
      "Iteration:  1351 | Accuracy = 0.920000\n",
      "Iteration:  1401 | Accuracy = 0.970000\n",
      "Iteration:  1451 | Accuracy = 0.900000\n",
      "Iteration:  1501 | Accuracy = 0.970000\n",
      "Iteration:  1551 | Accuracy = 0.950000\n",
      "Iteration:  1601 | Accuracy = 0.880000\n",
      "Iteration:  1651 | Accuracy = 0.940000\n",
      "Iteration:  1701 | Accuracy = 0.930000\n",
      "Iteration:  1751 | Accuracy = 0.960000\n",
      "Iteration:  1801 | Accuracy = 0.930000\n",
      "Iteration:  1851 | Accuracy = 0.950000\n",
      "Iteration:  1901 | Accuracy = 0.940000\n",
      "Iteration:  1951 | Accuracy = 0.970000\n",
      "Iteration:  2001 | Accuracy = 0.940000\n",
      "Iteration:  2051 | Accuracy = 0.920000\n",
      "Iteration:  2101 | Accuracy = 0.950000\n",
      "Iteration:  2151 | Accuracy = 0.920000\n",
      "Iteration:  2201 | Accuracy = 0.940000\n",
      "Iteration:  2251 | Accuracy = 0.970000\n",
      "Iteration:  2301 | Accuracy = 0.960000\n",
      "Iteration:  2351 | Accuracy = 0.980000\n",
      "Iteration:  2401 | Accuracy = 0.930000\n",
      "Iteration:  2451 | Accuracy = 0.960000\n",
      "Iteration:  2501 | Accuracy = 0.970000\n",
      "Iteration:  2551 | Accuracy = 0.980000\n",
      "Iteration:  2601 | Accuracy = 0.960000\n",
      "Iteration:  2651 | Accuracy = 0.980000\n",
      "Iteration:  2701 | Accuracy = 0.960000\n",
      "Iteration:  2751 | Accuracy = 0.990000\n",
      "Iteration:  2801 | Accuracy = 0.950000\n",
      "Iteration:  2851 | Accuracy = 0.960000\n",
      "Iteration:  2901 | Accuracy = 0.970000\n",
      "Iteration:  2951 | Accuracy = 0.980000\n",
      "Iteration:  3001 | Accuracy = 0.950000\n",
      "Iteration:  3051 | Accuracy = 0.990000\n",
      "Iteration:  3101 | Accuracy = 0.970000\n",
      "Iteration:  3151 | Accuracy = 0.960000\n",
      "Iteration:  3201 | Accuracy = 0.990000\n",
      "Iteration:  3251 | Accuracy = 0.960000\n",
      "Iteration:  3301 | Accuracy = 0.980000\n",
      "Iteration:  3351 | Accuracy = 0.980000\n",
      "Iteration:  3401 | Accuracy = 0.990000\n",
      "Iteration:  3451 | Accuracy = 0.990000\n",
      "Iteration:  3501 | Accuracy = 0.970000\n",
      "Iteration:  3551 | Accuracy = 0.980000\n",
      "Iteration:  3601 | Accuracy = 0.970000\n",
      "Iteration:  3651 | Accuracy = 0.980000\n",
      "Iteration:  3701 | Accuracy = 0.980000\n",
      "Iteration:  3751 | Accuracy = 0.970000\n",
      "Iteration:  3801 | Accuracy = 0.980000\n",
      "Iteration:  3851 | Accuracy = 0.990000\n",
      "Iteration:  3901 | Accuracy = 0.950000\n",
      "Iteration:  3951 | Accuracy = 0.980000\n",
      "Iteration:  4001 | Accuracy = 0.970000\n",
      "Iteration:  4051 | Accuracy = 0.950000\n",
      "Iteration:  4101 | Accuracy = 0.980000\n",
      "Iteration:  4151 | Accuracy = 0.970000\n",
      "Iteration:  4201 | Accuracy = 1.000000\n",
      "Iteration:  4251 | Accuracy = 0.950000\n",
      "Iteration:  4301 | Accuracy = 0.980000\n",
      "Iteration:  4351 | Accuracy = 0.980000\n",
      "Iteration:  4401 | Accuracy = 0.980000\n",
      "Iteration:  4451 | Accuracy = 0.980000\n",
      "Iteration:  4501 | Accuracy = 0.990000\n",
      "Iteration:  4551 | Accuracy = 0.990000\n",
      "Iteration:  4601 | Accuracy = 0.950000\n",
      "Iteration:  4651 | Accuracy = 0.970000\n",
      "Iteration:  4701 | Accuracy = 0.940000\n",
      "Iteration:  4751 | Accuracy = 0.980000\n",
      "Iteration:  4801 | Accuracy = 0.960000\n",
      "Iteration:  4851 | Accuracy = 0.990000\n",
      "Iteration:  4901 | Accuracy = 0.960000\n",
      "Iteration:  4951 | Accuracy = 0.970000\n",
      "Iteration:  5001 | Accuracy = 0.990000\n",
      "Iteration:  5051 | Accuracy = 0.990000\n",
      "Iteration:  5101 | Accuracy = 1.000000\n",
      "Iteration:  5151 | Accuracy = 0.990000\n",
      "Iteration:  5201 | Accuracy = 0.970000\n",
      "Iteration:  5251 | Accuracy = 0.960000\n",
      "Iteration:  5301 | Accuracy = 0.970000\n",
      "Iteration:  5351 | Accuracy = 0.980000\n",
      "Iteration:  5401 | Accuracy = 0.990000\n",
      "Iteration:  5451 | Accuracy = 0.950000\n",
      "Iteration:  5501 | Accuracy = 0.990000\n",
      "Iteration:  5551 | Accuracy = 0.990000\n",
      "Iteration:  5601 | Accuracy = 1.000000\n",
      "Iteration:  5651 | Accuracy = 0.990000\n",
      "Iteration:  5701 | Accuracy = 0.980000\n",
      "Iteration:  5751 | Accuracy = 1.000000\n",
      "Iteration:  5801 | Accuracy = 0.990000\n",
      "Iteration:  5851 | Accuracy = 0.990000\n",
      "Iteration:  5901 | Accuracy = 0.950000\n",
      "Iteration:  5951 | Accuracy = 0.990000\n",
      "Iteration:  6001 | Accuracy = 0.980000\n",
      "Iteration:  6051 | Accuracy = 1.000000\n",
      "Iteration:  6101 | Accuracy = 0.990000\n",
      "Iteration:  6151 | Accuracy = 0.990000\n",
      "Iteration:  6201 | Accuracy = 0.970000\n",
      "Iteration:  6251 | Accuracy = 0.990000\n",
      "Iteration:  6301 | Accuracy = 0.970000\n",
      "Iteration:  6351 | Accuracy = 0.970000\n",
      "Iteration:  6401 | Accuracy = 1.000000\n",
      "Iteration:  6451 | Accuracy = 0.960000\n",
      "Iteration:  6501 | Accuracy = 0.980000\n",
      "Iteration:  6551 | Accuracy = 0.980000\n",
      "Iteration:  6601 | Accuracy = 0.990000\n",
      "Iteration:  6651 | Accuracy = 0.990000\n",
      "Iteration:  6701 | Accuracy = 0.960000\n",
      "Iteration:  6751 | Accuracy = 0.980000\n",
      "Iteration:  6801 | Accuracy = 0.990000\n",
      "Iteration:  6851 | Accuracy = 0.980000\n",
      "Iteration:  6901 | Accuracy = 1.000000\n",
      "Iteration:  6951 | Accuracy = 0.990000\n",
      "Iteration:  7001 | Accuracy = 0.980000\n",
      "Iteration:  7051 | Accuracy = 0.980000\n",
      "Iteration:  7101 | Accuracy = 0.980000\n",
      "Iteration:  7151 | Accuracy = 1.000000\n",
      "Iteration:  7201 | Accuracy = 0.990000\n",
      "Iteration:  7251 | Accuracy = 0.990000\n",
      "Iteration:  7301 | Accuracy = 0.990000\n",
      "Iteration:  7351 | Accuracy = 0.990000\n",
      "Iteration:  7401 | Accuracy = 0.960000\n",
      "Iteration:  7451 | Accuracy = 0.990000\n",
      "Iteration:  7501 | Accuracy = 0.970000\n",
      "Iteration:  7551 | Accuracy = 0.980000\n",
      "Iteration:  7601 | Accuracy = 1.000000\n",
      "Iteration:  7651 | Accuracy = 0.990000\n",
      "Iteration:  7701 | Accuracy = 0.980000\n",
      "Iteration:  7751 | Accuracy = 0.990000\n",
      "Iteration:  7801 | Accuracy = 1.000000\n",
      "Iteration:  7851 | Accuracy = 0.990000\n",
      "Iteration:  7901 | Accuracy = 0.980000\n",
      "Iteration:  7951 | Accuracy = 0.990000\n",
      "Iteration:  8001 | Accuracy = 0.980000\n",
      "Iteration:  8051 | Accuracy = 1.000000\n",
      "Iteration:  8101 | Accuracy = 0.980000\n",
      "Iteration:  8151 | Accuracy = 0.990000\n",
      "Iteration:  8201 | Accuracy = 0.980000\n",
      "Iteration:  8251 | Accuracy = 0.980000\n",
      "Iteration:  8301 | Accuracy = 0.980000\n",
      "Iteration:  8351 | Accuracy = 0.970000\n",
      "Iteration:  8401 | Accuracy = 0.990000\n",
      "Iteration:  8451 | Accuracy = 0.980000\n",
      "Iteration:  8501 | Accuracy = 1.000000\n",
      "Iteration:  8551 | Accuracy = 1.000000\n",
      "Iteration:  8601 | Accuracy = 0.990000\n",
      "Iteration:  8651 | Accuracy = 1.000000\n",
      "Iteration:  8701 | Accuracy = 1.000000\n",
      "Iteration:  8751 | Accuracy = 0.980000\n",
      "Iteration:  8801 | Accuracy = 0.990000\n",
      "Iteration:  8851 | Accuracy = 0.990000\n",
      "Iteration:  8901 | Accuracy = 1.000000\n",
      "Iteration:  8951 | Accuracy = 1.000000\n",
      "Iteration:  9001 | Accuracy = 0.990000\n",
      "Iteration:  9051 | Accuracy = 1.000000\n",
      "Iteration:  9101 | Accuracy = 0.990000\n",
      "Iteration:  9151 | Accuracy = 1.000000\n",
      "Iteration:  9201 | Accuracy = 1.000000\n",
      "Iteration:  9251 | Accuracy = 0.990000\n",
      "Iteration:  9301 | Accuracy = 0.990000\n",
      "Iteration:  9351 | Accuracy = 0.980000\n",
      "Iteration:  9401 | Accuracy = 1.000000\n",
      "Iteration:  9451 | Accuracy = 1.000000\n",
      "Iteration:  9501 | Accuracy = 0.980000\n",
      "Iteration:  9551 | Accuracy = 1.000000\n",
      "Iteration:  9601 | Accuracy = 0.990000\n",
      "Iteration:  9651 | Accuracy = 0.990000\n",
      "Iteration:  9701 | Accuracy = 1.000000\n",
      "Iteration:  9751 | Accuracy = 1.000000\n",
      "Iteration:  9801 | Accuracy = 0.970000\n",
      "Iteration:  9851 | Accuracy = 0.990000\n",
      "Iteration:  9901 | Accuracy = 1.000000\n",
      "Iteration:  9951 | Accuracy = 0.990000\n",
      "Test accuracy: 0.974500\n"
     ]
    }
   ],
   "source": [
    "# Train\n",
    "training_iteration = 10000\n",
    "batch_size = 100\n",
    "display_step = 50\n",
    "tf.summary.scalar('loss', cross_entropy)\n",
    "tf.summary.scalar('accuracy', accuracy)\n",
    "merged = tf.summary.merge_all()\n",
    "with tf.Session() as sess:\n",
    "    writer = tf.summary.FileWriter('./neural_network/', sess.graph)\n",
    "    sess.run(tf.initialize_all_variables())\n",
    "    for iteration in range(training_iteration):\n",
    "        batch_xs, batch_ys = mnist.train.next_batch(batch_size)\n",
    "        summary, _, current_accuracy = sess.run([merged, train_step, accuracy], feed_dict={x: batch_xs, y_: batch_ys})\n",
    "        writer.add_summary(summary, iteration)\n",
    "        if iteration % display_step == 0:\n",
    "            print('Iteration: %5d | Accuracy = %.6f' % (iteration + 1, current_accuracy))\n",
    "    print('Test accuracy: %.6f' % sess.run(accuracy, feed_dict={x: mnist.test.images, y_: mnist.test.labels}))\n",
    "    writer.close()\n",
    "    "
   ]
  },
  {
   "cell_type": "code",
   "execution_count": null,
   "metadata": {
    "collapsed": true,
    "deletable": true,
    "editable": true
   },
   "outputs": [],
   "source": []
  }
 ],
 "metadata": {
  "kernelspec": {
   "display_name": "Python 3",
   "language": "python",
   "name": "python3"
  },
  "language_info": {
   "codemirror_mode": {
    "name": "ipython",
    "version": 3
   },
   "file_extension": ".py",
   "mimetype": "text/x-python",
   "name": "python",
   "nbconvert_exporter": "python",
   "pygments_lexer": "ipython3",
   "version": "3.5.0"
  }
 },
 "nbformat": 4,
 "nbformat_minor": 2
}
